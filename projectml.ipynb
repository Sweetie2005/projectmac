{
 "cells": [
  {
   "cell_type": "code",
   "execution_count": 4,
   "id": "0be81ac1-f180-4704-8ba6-5247d02d2208",
   "metadata": {},
   "outputs": [
    {
     "ename": "ModuleNotFoundError",
     "evalue": "No module named 'dlib'",
     "output_type": "error",
     "traceback": [
      "\u001b[31m---------------------------------------------------------------------------\u001b[39m",
      "\u001b[31mModuleNotFoundError\u001b[39m                       Traceback (most recent call last)",
      "\u001b[36mCell\u001b[39m\u001b[36m \u001b[39m\u001b[32mIn[4]\u001b[39m\u001b[32m, line 1\u001b[39m\n\u001b[32m----> \u001b[39m\u001b[32m1\u001b[39m \u001b[38;5;28;01mimport\u001b[39;00m\u001b[38;5;250m \u001b[39m\u001b[34;01mdlib\u001b[39;00m \n\u001b[32m      2\u001b[39m \u001b[38;5;28;01mimport\u001b[39;00m\u001b[38;5;250m \u001b[39m\u001b[34;01mcv2\u001b[39;00m \n\u001b[32m      3\u001b[39m \u001b[38;5;28;01mfrom\u001b[39;00m\u001b[38;5;250m \u001b[39m\u001b[34;01mmath\u001b[39;00m\u001b[38;5;250m \u001b[39m\u001b[38;5;28;01mimport\u001b[39;00m hypot\n",
      "\u001b[31mModuleNotFoundError\u001b[39m: No module named 'dlib'"
     ]
    }
   ],
   "source": [
    "import dlib \n",
    "import cv2 \n",
    "from math import hypot\n",
    "import numpy as np \n",
    "import time\n",
    "import pyautogui\n",
    "\n",
    "detector = dlib.get_frontal_face_detector()\n",
    "predictor = dlib.shape_predictor('Eye Blink Detection/shape_predictor_68_face_landmarks.dat')\n",
    "\n",
    "cap = cv2.VideoCapture(0)\n",
    "\n",
    "def jump():\n",
    "    pyautogui.keyDown('space')\n",
    "    pyautogui.keyUp('space')\n",
    "\n",
    "def midpoint(p1,p2):\n",
    "    return int((p1.x + p2.x)/2), int((p1.y + p2.y)/2)\n",
    "\n",
    "def get_blinking_ratio(eye_points,facial_landmarks):\n",
    "    left_point = facial_landmarks.part(eye_points[0]).x, facial_landmarks.part(eye_points[0]).y\n",
    "    right_point = facial_landmarks.part(eye_points[3]).x , facial_landmarks.part(eye_points[3]).y \n",
    "    center_top = midpoint(facial_landmarks.part(eye_points[1]), facial_landmarks.part(eye_points[2]))\n",
    "    center_bottom = midpoint(facial_landmarks.part(eye_points[5]), facial_landmarks.part(eye_points[4]))\n",
    "\n",
    "    hor_line_lenght = hypot((left_point[0] - right_point[0]), (left_point[1] - right_point[1]))\n",
    "    ver_line_lenght = hypot((center_top[0] - center_bottom[0]), (center_top[1] - center_bottom[1]))\n",
    "\n",
    "    ratio = hor_line_lenght / ver_line_lenght\n",
    "    return ratio\n",
    "\n",
    "while True:\n",
    "    success,img = cap.read()\n",
    "    imgGray = cv2.cvtColor(img,cv2.COLOR_BGR2GRAY)\n",
    "    faces = detector(imgGray)\n",
    "\n",
    "    for face in faces:\n",
    "        landmarks = predictor(imgGray,face)\n",
    "        left_eye_ratio = get_blinking_ratio([36, 37, 38, 39, 40, 41], landmarks)\n",
    "        right_eye_ratio = get_blinking_ratio([42, 43, 44, 45, 46, 47], landmarks)\n",
    "        blinking_ratio = (left_eye_ratio + right_eye_ratio) / 2\n",
    "\n",
    "        if blinking_ratio > 4.0:\n",
    "            cv2.putText(img,\"Blinking\",(20,50),cv2.FONT_HERSHEY_COMPLEX,1,(0,255,0),2)\n",
    "            jump()\n",
    "\n",
    "    \n",
    "    cv2.imshow('Facial Landmark Detection',img)\n",
    "    if cv2.waitKey(1) & 0xff==ord('q'):\n",
    "        break"
   ]
  },
  {
   "cell_type": "code",
   "execution_count": null,
   "id": "cec2b07f-2961-4f6d-8452-7e737adb6f6c",
   "metadata": {},
   "outputs": [],
   "source": []
  }
 ],
 "metadata": {
  "kernelspec": {
   "display_name": "Python 3 (ipykernel)",
   "language": "python",
   "name": "python3"
  },
  "language_info": {
   "codemirror_mode": {
    "name": "ipython",
    "version": 3
   },
   "file_extension": ".py",
   "mimetype": "text/x-python",
   "name": "python",
   "nbconvert_exporter": "python",
   "pygments_lexer": "ipython3",
   "version": "3.11.2"
  }
 },
 "nbformat": 4,
 "nbformat_minor": 5
}
